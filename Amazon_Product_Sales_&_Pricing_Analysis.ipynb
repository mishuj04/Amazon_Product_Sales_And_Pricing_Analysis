{
 "cells": [
  {
   "cell_type": "code",
   "execution_count": 2,
   "id": "911150fe-eec6-4952-bd37-483d505016aa",
   "metadata": {},
   "outputs": [],
   "source": [
    "import pandas as pd\n",
    "import matplotlib.pyplot as plt\n",
    "import seaborn as sns\n",
    "sns.set()"
   ]
  },
  {
   "cell_type": "code",
   "execution_count": 3,
   "id": "1435a5d5-107f-440b-957f-61aa72303f8f",
   "metadata": {},
   "outputs": [],
   "source": [
    "df=pd.read_csv(\"amazon_products_sales_data_cleaned.csv\")"
   ]
  },
  {
   "cell_type": "code",
   "execution_count": 4,
   "id": "0acbf8e9-f8dd-4d71-9584-053fd9eab11b",
   "metadata": {},
   "outputs": [
    {
     "data": {
      "text/html": [
       "<div>\n",
       "<style scoped>\n",
       "    .dataframe tbody tr th:only-of-type {\n",
       "        vertical-align: middle;\n",
       "    }\n",
       "\n",
       "    .dataframe tbody tr th {\n",
       "        vertical-align: top;\n",
       "    }\n",
       "\n",
       "    .dataframe thead th {\n",
       "        text-align: right;\n",
       "    }\n",
       "</style>\n",
       "<table border=\"1\" class=\"dataframe\">\n",
       "  <thead>\n",
       "    <tr style=\"text-align: right;\">\n",
       "      <th></th>\n",
       "      <th>product_title</th>\n",
       "      <th>product_rating</th>\n",
       "      <th>total_reviews</th>\n",
       "      <th>purchased_last_month</th>\n",
       "      <th>discounted_price</th>\n",
       "      <th>original_price</th>\n",
       "      <th>is_best_seller</th>\n",
       "      <th>is_sponsored</th>\n",
       "      <th>has_coupon</th>\n",
       "      <th>buy_box_availability</th>\n",
       "      <th>delivery_date</th>\n",
       "      <th>sustainability_tags</th>\n",
       "      <th>product_image_url</th>\n",
       "      <th>product_page_url</th>\n",
       "      <th>data_collected_at</th>\n",
       "      <th>product_category</th>\n",
       "      <th>discount_percentage</th>\n",
       "    </tr>\n",
       "  </thead>\n",
       "  <tbody>\n",
       "    <tr>\n",
       "      <th>0</th>\n",
       "      <td>BOYA BOYALINK 2 Wireless Lavalier Microphone f...</td>\n",
       "      <td>4.6</td>\n",
       "      <td>375.0</td>\n",
       "      <td>300.0</td>\n",
       "      <td>89.68</td>\n",
       "      <td>159.00</td>\n",
       "      <td>No Badge</td>\n",
       "      <td>Sponsored</td>\n",
       "      <td>Save 15%  with coupon</td>\n",
       "      <td>Add to cart</td>\n",
       "      <td>2025-09-01</td>\n",
       "      <td>Carbon impact</td>\n",
       "      <td>https://m.media-amazon.com/images/I/71pAqiVEs3...</td>\n",
       "      <td>https://www.amazon.com/sspa/click?ie=UTF8&amp;spc=...</td>\n",
       "      <td>2025-08-21 11:14:29</td>\n",
       "      <td>Phones</td>\n",
       "      <td>43.60</td>\n",
       "    </tr>\n",
       "    <tr>\n",
       "      <th>1</th>\n",
       "      <td>LISEN USB C to Lightning Cable, 240W 4 in 1 Ch...</td>\n",
       "      <td>4.3</td>\n",
       "      <td>2457.0</td>\n",
       "      <td>6000.0</td>\n",
       "      <td>9.99</td>\n",
       "      <td>15.99</td>\n",
       "      <td>No Badge</td>\n",
       "      <td>Sponsored</td>\n",
       "      <td>No Coupon</td>\n",
       "      <td>Add to cart</td>\n",
       "      <td>2025-08-29</td>\n",
       "      <td>NaN</td>\n",
       "      <td>https://m.media-amazon.com/images/I/61nbF6aVIP...</td>\n",
       "      <td>https://www.amazon.com/sspa/click?ie=UTF8&amp;spc=...</td>\n",
       "      <td>2025-08-21 11:14:29</td>\n",
       "      <td>Laptops</td>\n",
       "      <td>37.52</td>\n",
       "    </tr>\n",
       "    <tr>\n",
       "      <th>2</th>\n",
       "      <td>DJI Mic 2 (2 TX + 1 RX + Charging Case), Wirel...</td>\n",
       "      <td>4.6</td>\n",
       "      <td>3044.0</td>\n",
       "      <td>2000.0</td>\n",
       "      <td>314.00</td>\n",
       "      <td>349.00</td>\n",
       "      <td>No Badge</td>\n",
       "      <td>Sponsored</td>\n",
       "      <td>No Coupon</td>\n",
       "      <td>Add to cart</td>\n",
       "      <td>2025-09-01</td>\n",
       "      <td>NaN</td>\n",
       "      <td>https://m.media-amazon.com/images/I/61h78MEXoj...</td>\n",
       "      <td>https://www.amazon.com/sspa/click?ie=UTF8&amp;spc=...</td>\n",
       "      <td>2025-08-21 11:14:29</td>\n",
       "      <td>Laptops</td>\n",
       "      <td>10.03</td>\n",
       "    </tr>\n",
       "    <tr>\n",
       "      <th>3</th>\n",
       "      <td>Apple AirPods Pro 2 Wireless Earbuds, Active N...</td>\n",
       "      <td>4.6</td>\n",
       "      <td>35882.0</td>\n",
       "      <td>10000.0</td>\n",
       "      <td>162.24</td>\n",
       "      <td>162.24</td>\n",
       "      <td>Best Seller</td>\n",
       "      <td>Organic</td>\n",
       "      <td>No Coupon</td>\n",
       "      <td>NaN</td>\n",
       "      <td>NaN</td>\n",
       "      <td>NaN</td>\n",
       "      <td>https://m.media-amazon.com/images/I/61SUj2aKoE...</td>\n",
       "      <td>https://www.amazon.com/Apple-Cancellation-Tran...</td>\n",
       "      <td>2025-08-21 11:14:29</td>\n",
       "      <td>Phones</td>\n",
       "      <td>0.00</td>\n",
       "    </tr>\n",
       "    <tr>\n",
       "      <th>4</th>\n",
       "      <td>Apple AirTag 4 Pack. Keep Track of and find Yo...</td>\n",
       "      <td>4.8</td>\n",
       "      <td>28988.0</td>\n",
       "      <td>10000.0</td>\n",
       "      <td>72.74</td>\n",
       "      <td>72.74</td>\n",
       "      <td>No Badge</td>\n",
       "      <td>Organic</td>\n",
       "      <td>No Coupon</td>\n",
       "      <td>NaN</td>\n",
       "      <td>NaN</td>\n",
       "      <td>NaN</td>\n",
       "      <td>https://m.media-amazon.com/images/I/61bMNCeAUA...</td>\n",
       "      <td>https://www.amazon.com/Apple-MX542LL-A-AirTag-...</td>\n",
       "      <td>2025-08-21 11:14:29</td>\n",
       "      <td>Phones</td>\n",
       "      <td>0.00</td>\n",
       "    </tr>\n",
       "  </tbody>\n",
       "</table>\n",
       "</div>"
      ],
      "text/plain": [
       "                                       product_title  product_rating  \\\n",
       "0  BOYA BOYALINK 2 Wireless Lavalier Microphone f...             4.6   \n",
       "1  LISEN USB C to Lightning Cable, 240W 4 in 1 Ch...             4.3   \n",
       "2  DJI Mic 2 (2 TX + 1 RX + Charging Case), Wirel...             4.6   \n",
       "3  Apple AirPods Pro 2 Wireless Earbuds, Active N...             4.6   \n",
       "4  Apple AirTag 4 Pack. Keep Track of and find Yo...             4.8   \n",
       "\n",
       "   total_reviews  purchased_last_month  discounted_price  original_price  \\\n",
       "0          375.0                 300.0             89.68          159.00   \n",
       "1         2457.0                6000.0              9.99           15.99   \n",
       "2         3044.0                2000.0            314.00          349.00   \n",
       "3        35882.0               10000.0            162.24          162.24   \n",
       "4        28988.0               10000.0             72.74           72.74   \n",
       "\n",
       "  is_best_seller is_sponsored             has_coupon buy_box_availability  \\\n",
       "0       No Badge    Sponsored  Save 15%  with coupon          Add to cart   \n",
       "1       No Badge    Sponsored              No Coupon          Add to cart   \n",
       "2       No Badge    Sponsored              No Coupon          Add to cart   \n",
       "3    Best Seller      Organic              No Coupon                  NaN   \n",
       "4       No Badge      Organic              No Coupon                  NaN   \n",
       "\n",
       "  delivery_date sustainability_tags  \\\n",
       "0    2025-09-01       Carbon impact   \n",
       "1    2025-08-29                 NaN   \n",
       "2    2025-09-01                 NaN   \n",
       "3           NaN                 NaN   \n",
       "4           NaN                 NaN   \n",
       "\n",
       "                                   product_image_url  \\\n",
       "0  https://m.media-amazon.com/images/I/71pAqiVEs3...   \n",
       "1  https://m.media-amazon.com/images/I/61nbF6aVIP...   \n",
       "2  https://m.media-amazon.com/images/I/61h78MEXoj...   \n",
       "3  https://m.media-amazon.com/images/I/61SUj2aKoE...   \n",
       "4  https://m.media-amazon.com/images/I/61bMNCeAUA...   \n",
       "\n",
       "                                    product_page_url    data_collected_at  \\\n",
       "0  https://www.amazon.com/sspa/click?ie=UTF8&spc=...  2025-08-21 11:14:29   \n",
       "1  https://www.amazon.com/sspa/click?ie=UTF8&spc=...  2025-08-21 11:14:29   \n",
       "2  https://www.amazon.com/sspa/click?ie=UTF8&spc=...  2025-08-21 11:14:29   \n",
       "3  https://www.amazon.com/Apple-Cancellation-Tran...  2025-08-21 11:14:29   \n",
       "4  https://www.amazon.com/Apple-MX542LL-A-AirTag-...  2025-08-21 11:14:29   \n",
       "\n",
       "  product_category  discount_percentage  \n",
       "0           Phones                43.60  \n",
       "1          Laptops                37.52  \n",
       "2          Laptops                10.03  \n",
       "3           Phones                 0.00  \n",
       "4           Phones                 0.00  "
      ]
     },
     "execution_count": 4,
     "metadata": {},
     "output_type": "execute_result"
    }
   ],
   "source": [
    "df.head()"
   ]
  },
  {
   "cell_type": "code",
   "execution_count": 5,
   "id": "c860fe1f-5030-4a8c-b9f6-34d5408b12b9",
   "metadata": {},
   "outputs": [
    {
     "data": {
      "text/plain": [
       "product_title               0\n",
       "product_rating           1024\n",
       "total_reviews            1024\n",
       "purchased_last_month    10511\n",
       "discounted_price         2062\n",
       "original_price           2062\n",
       "is_best_seller              0\n",
       "is_sponsored                0\n",
       "has_coupon                  0\n",
       "buy_box_availability    14653\n",
       "delivery_date           11983\n",
       "sustainability_tags     39267\n",
       "product_image_url           0\n",
       "product_page_url         2069\n",
       "data_collected_at           0\n",
       "product_category            0\n",
       "discount_percentage      2062\n",
       "dtype: int64"
      ]
     },
     "execution_count": 5,
     "metadata": {},
     "output_type": "execute_result"
    }
   ],
   "source": [
    "df.isnull().sum()"
   ]
  },
  {
   "cell_type": "code",
   "execution_count": 6,
   "id": "f2030168-728e-41d2-ab20-7d9a29eb1200",
   "metadata": {},
   "outputs": [
    {
     "name": "stdout",
     "output_type": "stream",
     "text": [
      "<class 'pandas.core.frame.DataFrame'>\n",
      "RangeIndex: 42675 entries, 0 to 42674\n",
      "Data columns (total 17 columns):\n",
      " #   Column                Non-Null Count  Dtype  \n",
      "---  ------                --------------  -----  \n",
      " 0   product_title         42675 non-null  object \n",
      " 1   product_rating        41651 non-null  float64\n",
      " 2   total_reviews         41651 non-null  float64\n",
      " 3   purchased_last_month  32164 non-null  float64\n",
      " 4   discounted_price      40613 non-null  float64\n",
      " 5   original_price        40613 non-null  float64\n",
      " 6   is_best_seller        42675 non-null  object \n",
      " 7   is_sponsored          42675 non-null  object \n",
      " 8   has_coupon            42675 non-null  object \n",
      " 9   buy_box_availability  28022 non-null  object \n",
      " 10  delivery_date         30692 non-null  object \n",
      " 11  sustainability_tags   3408 non-null   object \n",
      " 12  product_image_url     42675 non-null  object \n",
      " 13  product_page_url      40606 non-null  object \n",
      " 14  data_collected_at     42675 non-null  object \n",
      " 15  product_category      42675 non-null  object \n",
      " 16  discount_percentage   40613 non-null  float64\n",
      "dtypes: float64(6), object(11)\n",
      "memory usage: 5.5+ MB\n"
     ]
    }
   ],
   "source": [
    "df.info()"
   ]
  },
  {
   "cell_type": "code",
   "execution_count": 8,
   "id": "7c6cbccd-8aac-4425-adf3-98f4dfede8e9",
   "metadata": {},
   "outputs": [],
   "source": [
    "df[\"product_rating\"]=df[\"product_rating\"].fillna(df[\"product_rating\"].mean())"
   ]
  },
  {
   "cell_type": "code",
   "execution_count": 9,
   "id": "c61ea9b7-acd9-4164-adae-3d44850ca3f6",
   "metadata": {},
   "outputs": [
    {
     "data": {
      "text/plain": [
       "product_title               0\n",
       "product_rating              0\n",
       "total_reviews            1024\n",
       "purchased_last_month    10511\n",
       "discounted_price         2062\n",
       "original_price           2062\n",
       "is_best_seller              0\n",
       "is_sponsored                0\n",
       "has_coupon                  0\n",
       "buy_box_availability    14653\n",
       "delivery_date           11983\n",
       "sustainability_tags     39267\n",
       "product_image_url           0\n",
       "product_page_url         2069\n",
       "data_collected_at           0\n",
       "product_category            0\n",
       "discount_percentage      2062\n",
       "dtype: int64"
      ]
     },
     "execution_count": 9,
     "metadata": {},
     "output_type": "execute_result"
    }
   ],
   "source": [
    "df.isnull().sum()"
   ]
  },
  {
   "cell_type": "code",
   "execution_count": 10,
   "id": "15278f4b-f3f2-4293-9940-c03b94a177ab",
   "metadata": {},
   "outputs": [],
   "source": [
    "df[\"total_reviews\"]=df[\"total_reviews\"].fillna(df[\"total_reviews\"].mean())"
   ]
  },
  {
   "cell_type": "code",
   "execution_count": 11,
   "id": "3937df93-d70e-4d64-b8c5-07986054c80c",
   "metadata": {},
   "outputs": [],
   "source": [
    "df[\"discounted_price\"]=df[\"discounted_price\"].fillna(df[\"discounted_price\"].mean())"
   ]
  },
  {
   "cell_type": "code",
   "execution_count": 12,
   "id": "658dacb7-94bd-41fc-b362-ebaace4a2156",
   "metadata": {},
   "outputs": [],
   "source": [
    "df[\"original_price\"]=df[\"original_price\"].fillna(df[\"original_price\"].mean())"
   ]
  },
  {
   "cell_type": "code",
   "execution_count": 13,
   "id": "9b37221d-40f0-488d-959c-fe6b99f42177",
   "metadata": {},
   "outputs": [],
   "source": [
    "df=df.drop(\"product_image_url\", axis=1)"
   ]
  },
  {
   "cell_type": "code",
   "execution_count": 14,
   "id": "1678ba66-ff8d-4d9d-b72a-43eff05cf75e",
   "metadata": {},
   "outputs": [],
   "source": [
    "df=df.drop(\"product_page_url\", axis=1)"
   ]
  },
  {
   "cell_type": "code",
   "execution_count": 15,
   "id": "95cc3c03-fa39-41c5-add7-7622ecb0dd4b",
   "metadata": {},
   "outputs": [
    {
     "data": {
      "text/plain": [
       "6.547150666042892"
      ]
     },
     "execution_count": 15,
     "metadata": {},
     "output_type": "execute_result"
    }
   ],
   "source": [
    "df[\"discount_percentage\"].mean()"
   ]
  },
  {
   "cell_type": "code",
   "execution_count": 16,
   "id": "c9e18b49-ab96-4275-a8e2-1624f29d6573",
   "metadata": {},
   "outputs": [
    {
     "data": {
      "text/plain": [
       "0.0"
      ]
     },
     "execution_count": 16,
     "metadata": {},
     "output_type": "execute_result"
    }
   ],
   "source": [
    "df[\"discount_percentage\"].median()"
   ]
  },
  {
   "cell_type": "code",
   "execution_count": 17,
   "id": "460f9691-eaab-4ded-9218-49ce2d22dcb6",
   "metadata": {},
   "outputs": [],
   "source": [
    "df[\"discount_percentage\"]=df[\"discount_percentage\"].fillna(df[\"discount_percentage\"].median())"
   ]
  },
  {
   "cell_type": "code",
   "execution_count": 18,
   "id": "d47d9d6a-755a-4fd5-b87e-aff2c98d4029",
   "metadata": {},
   "outputs": [],
   "source": [
    "df[\"sustainability_tags\"]=df[\"sustainability_tags\"].fillna(\"Not Applicable\")"
   ]
  },
  {
   "cell_type": "code",
   "execution_count": 19,
   "id": "7d5e79a1-923f-4b95-848e-3501a86a0b8a",
   "metadata": {},
   "outputs": [
    {
     "data": {
      "text/plain": [
       "array(['Add to cart', nan], dtype=object)"
      ]
     },
     "execution_count": 19,
     "metadata": {},
     "output_type": "execute_result"
    }
   ],
   "source": [
    "df[\"buy_box_availability\"].unique()"
   ]
  },
  {
   "cell_type": "code",
   "execution_count": 30,
   "id": "0f900169-9d07-478e-810d-7daa79ac8f4f",
   "metadata": {},
   "outputs": [],
   "source": [
    "df[\"buy_box_availability\"] = df[\"buy_box_availability\"].map({\"Add to cart\": 1}).fillna(0)"
   ]
  },
  {
   "cell_type": "code",
   "execution_count": 21,
   "id": "f8990fe0-feff-4a60-860e-855ca5f3de34",
   "metadata": {},
   "outputs": [],
   "source": [
    "df[\"delivery_date\"]=pd.to_datetime(df[\"delivery_date\"])"
   ]
  },
  {
   "cell_type": "code",
   "execution_count": 22,
   "id": "49f599b1-484b-44cb-83bf-2be945cfc6cf",
   "metadata": {},
   "outputs": [],
   "source": [
    "df[\"month\"]=df[\"delivery_date\"].dt.month"
   ]
  },
  {
   "cell_type": "code",
   "execution_count": 23,
   "id": "90823b0b-18c5-48b7-a1b7-fd74ea8bdc94",
   "metadata": {},
   "outputs": [],
   "source": [
    "df[\"year\"]=df[\"delivery_date\"].dt.year"
   ]
  },
  {
   "cell_type": "code",
   "execution_count": 24,
   "id": "d0015843-35bb-4c59-8a25-8cb4c51b1cf0",
   "metadata": {},
   "outputs": [
    {
     "data": {
      "text/plain": [
       "product_title               0\n",
       "product_rating              0\n",
       "total_reviews               0\n",
       "purchased_last_month    10511\n",
       "discounted_price            0\n",
       "original_price              0\n",
       "is_best_seller              0\n",
       "is_sponsored                0\n",
       "has_coupon                  0\n",
       "buy_box_availability    14653\n",
       "delivery_date           11983\n",
       "sustainability_tags         0\n",
       "data_collected_at           0\n",
       "product_category            0\n",
       "discount_percentage         0\n",
       "month                   11983\n",
       "year                    11983\n",
       "dtype: int64"
      ]
     },
     "execution_count": 24,
     "metadata": {},
     "output_type": "execute_result"
    }
   ],
   "source": [
    "df.isnull().sum()"
   ]
  },
  {
   "cell_type": "code",
   "execution_count": 25,
   "id": "1bf13817-33ec-4b4a-b784-96f541b0db12",
   "metadata": {},
   "outputs": [],
   "source": [
    "df=df.drop(\"delivery_date\", axis=1)"
   ]
  },
  {
   "cell_type": "code",
   "execution_count": 27,
   "id": "9ff92d63-fbb5-49fc-b375-39f5e569101b",
   "metadata": {},
   "outputs": [],
   "source": [
    "df[\"year\"]=df[\"year\"].fillna(df[\"year\"].median())"
   ]
  },
  {
   "cell_type": "code",
   "execution_count": 26,
   "id": "2273020e-c186-42ec-ae9b-79767595e29c",
   "metadata": {},
   "outputs": [],
   "source": [
    "df[\"month\"]=df[\"month\"].fillna(df[\"month\"].median())"
   ]
  },
  {
   "cell_type": "code",
   "execution_count": 29,
   "id": "5306578c-d14e-4127-be07-0298b317b919",
   "metadata": {},
   "outputs": [],
   "source": [
    "df[\"purchased_last_month\"]=df[\"purchased_last_month\"].fillna(df[\"purchased_last_month\"].mean()).round()"
   ]
  },
  {
   "cell_type": "code",
   "execution_count": 33,
   "id": "8921d98f-2eb8-43b2-a080-79809fbe55be",
   "metadata": {},
   "outputs": [
    {
     "data": {
      "text/plain": [
       "product_title           0\n",
       "product_rating          0\n",
       "total_reviews           0\n",
       "purchased_last_month    0\n",
       "discounted_price        0\n",
       "original_price          0\n",
       "is_best_seller          0\n",
       "is_sponsored            0\n",
       "has_coupon              0\n",
       "buy_box_availability    0\n",
       "sustainability_tags     0\n",
       "data_collected_at       0\n",
       "product_category        0\n",
       "discount_percentage     0\n",
       "month                   0\n",
       "year                    0\n",
       "dtype: int64"
      ]
     },
     "execution_count": 33,
     "metadata": {},
     "output_type": "execute_result"
    }
   ],
   "source": [
    "df.isnull().sum()"
   ]
  },
  {
   "cell_type": "code",
   "execution_count": 34,
   "id": "ec52569d-de7c-41f4-90d6-7b163676ad1e",
   "metadata": {},
   "outputs": [],
   "source": [
    "df.loc[df['discount_percentage'] == 0, 'discounted_price'] = df['original_price']"
   ]
  },
  {
   "cell_type": "code",
   "execution_count": 35,
   "id": "1d4ca14e-634a-43e2-a90c-6e059ece3909",
   "metadata": {},
   "outputs": [],
   "source": [
    "df.to_csv('New_Data_Amazon.csv', index=False)"
   ]
  },
  {
   "cell_type": "code",
   "execution_count": null,
   "id": "ca0bbbed-eed1-4c15-a8f3-854f123821be",
   "metadata": {},
   "outputs": [],
   "source": []
  }
 ],
 "metadata": {
  "kernelspec": {
   "display_name": "Python 3 (ipykernel)",
   "language": "python",
   "name": "python3"
  },
  "language_info": {
   "codemirror_mode": {
    "name": "ipython",
    "version": 3
   },
   "file_extension": ".py",
   "mimetype": "text/x-python",
   "name": "python",
   "nbconvert_exporter": "python",
   "pygments_lexer": "ipython3",
   "version": "3.12.7"
  }
 },
 "nbformat": 4,
 "nbformat_minor": 5
}
